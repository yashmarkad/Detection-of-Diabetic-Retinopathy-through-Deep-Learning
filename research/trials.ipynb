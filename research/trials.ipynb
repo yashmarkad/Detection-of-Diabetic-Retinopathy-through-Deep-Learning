{
 "cells": [
  {
   "cell_type": "code",
   "execution_count": 2,
   "metadata": {},
   "outputs": [],
   "source": [
    "from box import ConfigBox\n"
   ]
  },
  {
   "cell_type": "code",
   "execution_count": 3,
   "metadata": {},
   "outputs": [],
   "source": [
    "d=ConfigBox({'a': 1, 'b': 2, 'c': 3})"
   ]
  },
  {
   "cell_type": "code",
   "execution_count": 4,
   "metadata": {},
   "outputs": [
    {
     "data": {
      "text/plain": [
       "1"
      ]
     },
     "execution_count": 4,
     "metadata": {},
     "output_type": "execute_result"
    }
   ],
   "source": [
    "d.a"
   ]
  },
  {
   "cell_type": "code",
   "execution_count": 5,
   "metadata": {},
   "outputs": [
    {
     "name": "stdout",
     "output_type": "stream",
     "text": [
      "<class 'box.config_box.ConfigBox'>\n"
     ]
    }
   ],
   "source": [
    "print(type(d))"
   ]
  },
  {
   "cell_type": "code",
   "execution_count": 6,
   "metadata": {},
   "outputs": [],
   "source": [
    "import gdown"
   ]
  },
  {
   "cell_type": "code",
   "execution_count": 7,
   "metadata": {},
   "outputs": [],
   "source": [
    "url=\"https://drive.google.com/file/d/1Qyr-21G_iVjd7oOIhvO0J5KLouKEiS2h/view?usp=sharing\""
   ]
  },
  {
   "cell_type": "code",
   "execution_count": 10,
   "metadata": {},
   "outputs": [
    {
     "data": {
      "text/plain": [
       "'1Qyr-21G_iVjd7oOIhvO0J5KLouKEiS2h'"
      ]
     },
     "execution_count": 10,
     "metadata": {},
     "output_type": "execute_result"
    }
   ],
   "source": [
    "file_id=url.split(\"/\")[-2]\n",
    "file_id"
   ]
  },
  {
   "cell_type": "code",
   "execution_count": 11,
   "metadata": {},
   "outputs": [
    {
     "name": "stderr",
     "output_type": "stream",
     "text": [
      "Downloading...\n",
      "From (original): https://drive.google.com/uc?/export=download&id=1Qyr-21G_iVjd7oOIhvO0J5KLouKEiS2h\n",
      "From (redirected): https://drive.google.com/uc?%2Fexport=download&id=1Qyr-21G_iVjd7oOIhvO0J5KLouKEiS2h&confirm=t&uuid=7d792773-1c49-4271-bd76-33cc0bab149e\n",
      "To: c:\\CDAC_PROJECT\\Final_project_retinopathy\\research\\ratinopathy_scan-data.zip\n",
      "100%|██████████| 243M/243M [00:51<00:00, 4.75MB/s] \n"
     ]
    },
    {
     "data": {
      "text/plain": [
       "'ratinopathy_scan-data.zip'"
      ]
     },
     "execution_count": 11,
     "metadata": {},
     "output_type": "execute_result"
    }
   ],
   "source": [
    "prefix = 'https://drive.google.com/uc?/export=download&id='\n",
    "gdown.download(prefix+file_id, \"ratinopathy_scan-data.zip\")"
   ]
  }
 ],
 "metadata": {
  "kernelspec": {
   "display_name": "cursor",
   "language": "python",
   "name": "python3"
  },
  "language_info": {
   "codemirror_mode": {
    "name": "ipython",
    "version": 3
   },
   "file_extension": ".py",
   "mimetype": "text/x-python",
   "name": "python",
   "nbconvert_exporter": "python",
   "pygments_lexer": "ipython3",
   "version": "3.8.18"
  }
 },
 "nbformat": 4,
 "nbformat_minor": 2
}
